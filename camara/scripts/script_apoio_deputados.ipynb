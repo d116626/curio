{
 "cells": [
  {
   "cell_type": "code",
   "execution_count": 1,
   "metadata": {},
   "outputs": [
    {
     "data": {
      "text/html": [
       "<script type=\"text/javascript\">window.PlotlyConfig = {MathJaxConfig: 'local'};</script><script type=\"text/javascript\">if (window.MathJax) {MathJax.Hub.Config({SVG: {font: \"STIX-Web\"}});}</script><script>requirejs.config({paths: { 'plotly': ['https://cdn.plot.ly/plotly-latest.min']},});if(!window._Plotly) {require(['plotly'],function(plotly) {window._Plotly=plotly;});}</script>"
      ],
      "text/vnd.plotly.v1+html": [
       "<script type=\"text/javascript\">window.PlotlyConfig = {MathJaxConfig: 'local'};</script><script type=\"text/javascript\">if (window.MathJax) {MathJax.Hub.Config({SVG: {font: \"STIX-Web\"}});}</script><script>requirejs.config({paths: { 'plotly': ['https://cdn.plot.ly/plotly-latest.min']},});if(!window._Plotly) {require(['plotly'],function(plotly) {window._Plotly=plotly;});}</script>"
      ]
     },
     "metadata": {},
     "output_type": "display_data"
    }
   ],
   "source": [
    "import pandas as pd\n",
    "import matplotlib.pyplot as plt\n",
    "import numpy as np\n",
    "import seaborn as sns\n",
    "import plotly.offline as py\n",
    "py.init_notebook_mode(connected=True)\n",
    "import plotly.graph_objs as go\n",
    "import plotly.tools as tls\n",
    "import warnings\n",
    "warnings.filterwarnings('ignore')\n",
    "from nltk.corpus import stopwords\n",
    "import nltk\n",
    "\n",
    "pd.options.display.max_columns = None\n"
   ]
  },
  {
   "cell_type": "code",
   "execution_count": 251,
   "metadata": {},
   "outputs": [],
   "source": [
    "partido = 'GOV.'"
   ]
  },
  {
   "cell_type": "code",
   "execution_count": 281,
   "metadata": {},
   "outputs": [],
   "source": [
    "df_o= pd.read_csv('../db/votacao_proposicao_orientacao_prop_data_hora.csv')\n",
    "df_v= pd.read_csv('../db/votacao_proposicao_prop_data_hora.csv')\n",
    "\n"
   ]
  },
  {
   "cell_type": "code",
   "execution_count": 282,
   "metadata": {},
   "outputs": [],
   "source": [
    "df_vp=df_v.copy()\n",
    "cols=['ide_cadastro','data_captura','url_captura']\n",
    "df_vp = df_vp.drop(columns = cols)\n",
    "# df_vp.head(2)"
   ]
  },
  {
   "cell_type": "code",
   "execution_count": 283,
   "metadata": {},
   "outputs": [],
   "source": [
    "df_op=df_o.copy()\n",
    "cols=['data_captura','url_captura','numero_captura']\n",
    "df_op = df_op.drop(columns = cols)\n",
    "# df_op.head(2)\n"
   ]
  },
  {
   "cell_type": "code",
   "execution_count": 284,
   "metadata": {},
   "outputs": [
    {
     "name": "stdout",
     "output_type": "stream",
     "text": [
      "Numero de partidos nas proposições Orientadas 142\n",
      "Numero de proposições Orientadas 2770\n"
     ]
    }
   ],
   "source": [
    "print('Numero de partidos nas proposições Orientadas', len(list(df_op['sigla_partido'].unique())))\n",
    "print('Numero de proposições Orientadas', len(list(df_op['prop_data_hora_o'].unique())))\n"
   ]
  },
  {
   "cell_type": "code",
   "execution_count": 285,
   "metadata": {},
   "outputs": [
    {
     "name": "stdout",
     "output_type": "stream",
     "text": [
      "Proposiçoes Orientadas Pelo Partido GOV. 2264\n"
     ]
    }
   ],
   "source": [
    "df_op = df_op[df_op['sigla_partido']==partido]\n",
    "print('Proposiçoes Orientadas Pelo Partido %s'%(partido),len(list(df_op['prop_data_hora_o'] )))\n",
    "# df_op.head(2)"
   ]
  },
  {
   "cell_type": "code",
   "execution_count": 286,
   "metadata": {},
   "outputs": [],
   "source": [
    "df_vp = df_vp.rename({'prop_data_hora_p':'prop_data_hora_o'})\n",
    "# df_vp.head(2)"
   ]
  },
  {
   "cell_type": "code",
   "execution_count": null,
   "metadata": {},
   "outputs": [],
   "source": []
  },
  {
   "cell_type": "code",
   "execution_count": 287,
   "metadata": {},
   "outputs": [],
   "source": [
    "check_partido = 'check_%s'%(partido)\n",
    "df_op[check_partido]=1"
   ]
  },
  {
   "cell_type": "code",
   "execution_count": 288,
   "metadata": {},
   "outputs": [],
   "source": [
    "cols=['prop_data_hora_o']\n",
    "df = pd.merge(df_vp , df_op, on = cols ,how = 'left')"
   ]
  },
  {
   "cell_type": "code",
   "execution_count": 289,
   "metadata": {},
   "outputs": [
    {
     "data": {
      "text/html": [
       "<div>\n",
       "<style scoped>\n",
       "    .dataframe tbody tr th:only-of-type {\n",
       "        vertical-align: middle;\n",
       "    }\n",
       "\n",
       "    .dataframe tbody tr th {\n",
       "        vertical-align: top;\n",
       "    }\n",
       "\n",
       "    .dataframe thead th {\n",
       "        text-align: right;\n",
       "    }\n",
       "</style>\n",
       "<table border=\"1\" class=\"dataframe\">\n",
       "  <thead>\n",
       "    <tr style=\"text-align: right;\">\n",
       "      <th></th>\n",
       "      <th>id_proposicao_x</th>\n",
       "      <th>numero_proposicao_x</th>\n",
       "      <th>ano_proposicao_x</th>\n",
       "      <th>cod_sessao_x</th>\n",
       "      <th>id_proposicao_y</th>\n",
       "      <th>numero_proposicao_y</th>\n",
       "      <th>ano_proposicao_y</th>\n",
       "      <th>cod_sessao_y</th>\n",
       "      <th>check_GOV.</th>\n",
       "    </tr>\n",
       "  </thead>\n",
       "  <tbody>\n",
       "    <tr>\n",
       "      <th>count</th>\n",
       "      <td>1.673848e+06</td>\n",
       "      <td>1.673848e+06</td>\n",
       "      <td>1.673848e+06</td>\n",
       "      <td>1.673848e+06</td>\n",
       "      <td>1.177458e+06</td>\n",
       "      <td>1.177458e+06</td>\n",
       "      <td>1.177458e+06</td>\n",
       "      <td>1.177458e+06</td>\n",
       "      <td>1177458.0</td>\n",
       "    </tr>\n",
       "    <tr>\n",
       "      <th>mean</th>\n",
       "      <td>6.016857e+05</td>\n",
       "      <td>1.266029e+03</td>\n",
       "      <td>2.005990e+03</td>\n",
       "      <td>4.590931e+03</td>\n",
       "      <td>6.783637e+05</td>\n",
       "      <td>1.224534e+03</td>\n",
       "      <td>2.007855e+03</td>\n",
       "      <td>4.906119e+03</td>\n",
       "      <td>1.0</td>\n",
       "    </tr>\n",
       "    <tr>\n",
       "      <th>std</th>\n",
       "      <td>7.048005e+05</td>\n",
       "      <td>2.090965e+03</td>\n",
       "      <td>7.722707e+00</td>\n",
       "      <td>4.434894e+03</td>\n",
       "      <td>7.351324e+05</td>\n",
       "      <td>2.061516e+03</td>\n",
       "      <td>6.565656e+00</td>\n",
       "      <td>4.625452e+03</td>\n",
       "      <td>0.0</td>\n",
       "    </tr>\n",
       "    <tr>\n",
       "      <th>min</th>\n",
       "      <td>1.330300e+04</td>\n",
       "      <td>1.000000e+00</td>\n",
       "      <td>1.983000e+03</td>\n",
       "      <td>2.770000e+02</td>\n",
       "      <td>1.330300e+04</td>\n",
       "      <td>1.000000e+00</td>\n",
       "      <td>1.988000e+03</td>\n",
       "      <td>2.770000e+02</td>\n",
       "      <td>1.0</td>\n",
       "    </tr>\n",
       "    <tr>\n",
       "      <th>25%</th>\n",
       "      <td>1.503570e+05</td>\n",
       "      <td>1.720000e+02</td>\n",
       "      <td>1.999000e+03</td>\n",
       "      <td>2.044000e+03</td>\n",
       "      <td>1.404060e+05</td>\n",
       "      <td>2.030000e+02</td>\n",
       "      <td>2.003000e+03</td>\n",
       "      <td>1.045000e+03</td>\n",
       "      <td>1.0</td>\n",
       "    </tr>\n",
       "    <tr>\n",
       "      <th>50%</th>\n",
       "      <td>3.448660e+05</td>\n",
       "      <td>4.070000e+02</td>\n",
       "      <td>2.007000e+03</td>\n",
       "      <td>3.463000e+03</td>\n",
       "      <td>3.826800e+05</td>\n",
       "      <td>4.310000e+02</td>\n",
       "      <td>2.007000e+03</td>\n",
       "      <td>3.876000e+03</td>\n",
       "      <td>1.0</td>\n",
       "    </tr>\n",
       "    <tr>\n",
       "      <th>75%</th>\n",
       "      <td>5.798690e+05</td>\n",
       "      <td>8.000000e+02</td>\n",
       "      <td>2.013000e+03</td>\n",
       "      <td>5.518000e+03</td>\n",
       "      <td>7.963410e+05</td>\n",
       "      <td>7.590000e+02</td>\n",
       "      <td>2.014000e+03</td>\n",
       "      <td>5.605000e+03</td>\n",
       "      <td>1.0</td>\n",
       "    </tr>\n",
       "    <tr>\n",
       "      <th>max</th>\n",
       "      <td>2.183306e+06</td>\n",
       "      <td>1.092900e+04</td>\n",
       "      <td>2.018000e+03</td>\n",
       "      <td>1.667600e+04</td>\n",
       "      <td>2.183306e+06</td>\n",
       "      <td>1.092900e+04</td>\n",
       "      <td>2.018000e+03</td>\n",
       "      <td>1.666500e+04</td>\n",
       "      <td>1.0</td>\n",
       "    </tr>\n",
       "  </tbody>\n",
       "</table>\n",
       "</div>"
      ],
      "text/plain": [
       "       id_proposicao_x  numero_proposicao_x  ano_proposicao_x  cod_sessao_x  \\\n",
       "count     1.673848e+06         1.673848e+06      1.673848e+06  1.673848e+06   \n",
       "mean      6.016857e+05         1.266029e+03      2.005990e+03  4.590931e+03   \n",
       "std       7.048005e+05         2.090965e+03      7.722707e+00  4.434894e+03   \n",
       "min       1.330300e+04         1.000000e+00      1.983000e+03  2.770000e+02   \n",
       "25%       1.503570e+05         1.720000e+02      1.999000e+03  2.044000e+03   \n",
       "50%       3.448660e+05         4.070000e+02      2.007000e+03  3.463000e+03   \n",
       "75%       5.798690e+05         8.000000e+02      2.013000e+03  5.518000e+03   \n",
       "max       2.183306e+06         1.092900e+04      2.018000e+03  1.667600e+04   \n",
       "\n",
       "       id_proposicao_y  numero_proposicao_y  ano_proposicao_y  cod_sessao_y  \\\n",
       "count     1.177458e+06         1.177458e+06      1.177458e+06  1.177458e+06   \n",
       "mean      6.783637e+05         1.224534e+03      2.007855e+03  4.906119e+03   \n",
       "std       7.351324e+05         2.061516e+03      6.565656e+00  4.625452e+03   \n",
       "min       1.330300e+04         1.000000e+00      1.988000e+03  2.770000e+02   \n",
       "25%       1.404060e+05         2.030000e+02      2.003000e+03  1.045000e+03   \n",
       "50%       3.826800e+05         4.310000e+02      2.007000e+03  3.876000e+03   \n",
       "75%       7.963410e+05         7.590000e+02      2.014000e+03  5.605000e+03   \n",
       "max       2.183306e+06         1.092900e+04      2.018000e+03  1.666500e+04   \n",
       "\n",
       "       check_GOV.  \n",
       "count   1177458.0  \n",
       "mean          1.0  \n",
       "std           0.0  \n",
       "min           1.0  \n",
       "25%           1.0  \n",
       "50%           1.0  \n",
       "75%           1.0  \n",
       "max           1.0  "
      ]
     },
     "execution_count": 289,
     "metadata": {},
     "output_type": "execute_result"
    }
   ],
   "source": [
    "df.describe()"
   ]
  },
  {
   "cell_type": "code",
   "execution_count": 290,
   "metadata": {},
   "outputs": [
    {
     "name": "stdout",
     "output_type": "stream",
     "text": [
      "['id_proposicao_x', 'tipo_proposicao_sigla_x', 'numero_proposicao_x', 'ano_proposicao_x', 'resumo_votacao_x', 'data_votacao_x', 'hora_votacao_x', 'objeto_votacao_x', 'cod_sessao_x', 'nome', 'sigla_partido_x', 'uf', 'voto', 'prop_data_hora_o', 'id_proposicao_y', 'tipo_proposicao_sigla_y', 'numero_proposicao_y', 'ano_proposicao_y', 'resumo_votacao_y', 'data_votacao_y', 'hora_votacao_y', 'objeto_votacao_y', 'cod_sessao_y', 'sigla_partido_y', 'orientacao_partido', 'check_GOV.']\n"
     ]
    }
   ],
   "source": [
    "cols = df.columns.tolist()\n",
    "print(cols)"
   ]
  },
  {
   "cell_type": "code",
   "execution_count": 291,
   "metadata": {},
   "outputs": [],
   "source": [
    "cols = [ 'id_proposicao_y', 'tipo_proposicao_sigla_y', 'numero_proposicao_y', \n",
    "        'ano_proposicao_y', 'resumo_votacao_y', 'data_votacao_y', 'hora_votacao_y', \n",
    "        'cod_sessao_y','objeto_votacao_y']\n",
    "df = df.drop(columns = cols)\n"
   ]
  },
  {
   "cell_type": "code",
   "execution_count": 292,
   "metadata": {},
   "outputs": [
    {
     "name": "stdout",
     "output_type": "stream",
     "text": [
      "['id_proposicao_x', 'tipo_proposicao_sigla_x', 'numero_proposicao_x', 'ano_proposicao_x', 'resumo_votacao_x', 'data_votacao_x', 'hora_votacao_x', 'objeto_votacao_x', 'cod_sessao_x', 'nome', 'sigla_partido_x', 'uf', 'voto', 'prop_data_hora_o', 'sigla_partido_y', 'orientacao_partido', 'check_GOV.']\n"
     ]
    }
   ],
   "source": [
    "cols = df.columns.tolist()\n",
    "print(cols)\n",
    "# df_vp.head(1)"
   ]
  },
  {
   "cell_type": "code",
   "execution_count": 293,
   "metadata": {},
   "outputs": [],
   "source": [
    "cols = ['id_proposicao_x','data_votacao_x', 'hora_votacao_x','prop_data_hora_o','objeto_votacao_x',\n",
    "        'tipo_proposicao_sigla_x','numero_proposicao_x', 'ano_proposicao_x',\n",
    "        'resumo_votacao_x', 'cod_sessao_x','uf','nome','sigla_partido_x', 'voto',\n",
    "        'sigla_partido_y','orientacao_partido',check_partido,]\n",
    "\n",
    "\n",
    "df = df[cols]"
   ]
  },
  {
   "cell_type": "code",
   "execution_count": 294,
   "metadata": {},
   "outputs": [
    {
     "name": "stdout",
     "output_type": "stream",
     "text": [
      "['id_proposicao_x', 'data_votacao_x', 'hora_votacao_x', 'prop_data_hora_o', 'objeto_votacao_x', 'tipo_proposicao_sigla_x', 'numero_proposicao_x', 'ano_proposicao_x', 'resumo_votacao_x', 'cod_sessao_x', 'uf', 'nome', 'sigla_partido_x', 'voto', 'sigla_partido_y', 'orientacao_partido', 'check_GOV.']\n"
     ]
    }
   ],
   "source": [
    "cols = df.columns.tolist()\n",
    "print(cols)"
   ]
  },
  {
   "cell_type": "code",
   "execution_count": 295,
   "metadata": {},
   "outputs": [],
   "source": [
    "dic = {'id_proposicao_x':'id_proposicao', 'tipo_proposicao_sigla_x':'tipo_proposicao_sigla', 'numero_proposicao_x':'numero_proposicao', \n",
    "       'ano_proposicao_x':'ano_proposicao', 'resumo_votacao_x':'resumo_votacao', 'data_votacao_x':'data_votacao', \n",
    "       'hora_votacao_x':'hora_votacao', 'objeto_votacao_x':'objeto_votacao', 'cod_sessao_x':'cod_sessao', 'nome':'nome', \n",
    "       'sigla_partido_x':'sigla_partido', 'uf':'uf', 'voto':'voto', 'prop_data_hora_o':'prop_data_hora'}\n",
    "\n",
    "\n",
    "dic['sigla_partido_y']='sigla_orientaçao_%s'%(partido)\n",
    "dic['orientacao_partido']='voto_orientacao_%s'%(partido)\n",
    "dic[check_partido] = check_partido"
   ]
  },
  {
   "cell_type": "code",
   "execution_count": 296,
   "metadata": {},
   "outputs": [],
   "source": [
    "df = df.rename(columns = dic)"
   ]
  },
  {
   "cell_type": "code",
   "execution_count": 297,
   "metadata": {},
   "outputs": [
    {
     "data": {
      "text/html": [
       "<div>\n",
       "<style scoped>\n",
       "    .dataframe tbody tr th:only-of-type {\n",
       "        vertical-align: middle;\n",
       "    }\n",
       "\n",
       "    .dataframe tbody tr th {\n",
       "        vertical-align: top;\n",
       "    }\n",
       "\n",
       "    .dataframe thead th {\n",
       "        text-align: right;\n",
       "    }\n",
       "</style>\n",
       "<table border=\"1\" class=\"dataframe\">\n",
       "  <thead>\n",
       "    <tr style=\"text-align: right;\">\n",
       "      <th></th>\n",
       "      <th>id_proposicao</th>\n",
       "      <th>data_votacao</th>\n",
       "      <th>hora_votacao</th>\n",
       "      <th>prop_data_hora</th>\n",
       "      <th>objeto_votacao</th>\n",
       "      <th>tipo_proposicao_sigla</th>\n",
       "      <th>numero_proposicao</th>\n",
       "      <th>ano_proposicao</th>\n",
       "      <th>resumo_votacao</th>\n",
       "      <th>cod_sessao</th>\n",
       "      <th>uf</th>\n",
       "      <th>nome</th>\n",
       "      <th>sigla_partido</th>\n",
       "      <th>voto</th>\n",
       "      <th>sigla_orientaçao_GOV.</th>\n",
       "      <th>voto_orientacao_GOV.</th>\n",
       "      <th>check_GOV.</th>\n",
       "    </tr>\n",
       "  </thead>\n",
       "  <tbody>\n",
       "    <tr>\n",
       "      <th>0</th>\n",
       "      <td>24993</td>\n",
       "      <td>1999-11-24</td>\n",
       "      <td>19:25:00</td>\n",
       "      <td>24993 1999-11-24 19:25:00</td>\n",
       "      <td>EMENDA  AGLUTINATIVA</td>\n",
       "      <td>PEC</td>\n",
       "      <td>407</td>\n",
       "      <td>1996</td>\n",
       "      <td>NaN</td>\n",
       "      <td>412</td>\n",
       "      <td>RS</td>\n",
       "      <td>Mendes Ribeiro Filho</td>\n",
       "      <td>PMDB</td>\n",
       "      <td>Sim</td>\n",
       "      <td>GOV.</td>\n",
       "      <td>Sim</td>\n",
       "      <td>1.0</td>\n",
       "    </tr>\n",
       "    <tr>\n",
       "      <th>1</th>\n",
       "      <td>24993</td>\n",
       "      <td>1999-11-24</td>\n",
       "      <td>19:25:00</td>\n",
       "      <td>24993 1999-11-24 19:25:00</td>\n",
       "      <td>EMENDA  AGLUTINATIVA</td>\n",
       "      <td>PEC</td>\n",
       "      <td>407</td>\n",
       "      <td>1996</td>\n",
       "      <td>NaN</td>\n",
       "      <td>412</td>\n",
       "      <td>RS</td>\n",
       "      <td>Nelson Marchezan</td>\n",
       "      <td>PSDB</td>\n",
       "      <td>Sim</td>\n",
       "      <td>GOV.</td>\n",
       "      <td>Sim</td>\n",
       "      <td>1.0</td>\n",
       "    </tr>\n",
       "    <tr>\n",
       "      <th>2</th>\n",
       "      <td>24993</td>\n",
       "      <td>1999-11-24</td>\n",
       "      <td>19:25:00</td>\n",
       "      <td>24993 1999-11-24 19:25:00</td>\n",
       "      <td>EMENDA  AGLUTINATIVA</td>\n",
       "      <td>PEC</td>\n",
       "      <td>407</td>\n",
       "      <td>1996</td>\n",
       "      <td>NaN</td>\n",
       "      <td>412</td>\n",
       "      <td>RS</td>\n",
       "      <td>Nelson Proença</td>\n",
       "      <td>PMDB</td>\n",
       "      <td>Sim</td>\n",
       "      <td>GOV.</td>\n",
       "      <td>Sim</td>\n",
       "      <td>1.0</td>\n",
       "    </tr>\n",
       "    <tr>\n",
       "      <th>3</th>\n",
       "      <td>24993</td>\n",
       "      <td>1999-11-24</td>\n",
       "      <td>19:25:00</td>\n",
       "      <td>24993 1999-11-24 19:25:00</td>\n",
       "      <td>EMENDA  AGLUTINATIVA</td>\n",
       "      <td>PEC</td>\n",
       "      <td>407</td>\n",
       "      <td>1996</td>\n",
       "      <td>NaN</td>\n",
       "      <td>412</td>\n",
       "      <td>RS</td>\n",
       "      <td>Osvaldo Biolchi</td>\n",
       "      <td>PMDB</td>\n",
       "      <td>Sim</td>\n",
       "      <td>GOV.</td>\n",
       "      <td>Sim</td>\n",
       "      <td>1.0</td>\n",
       "    </tr>\n",
       "    <tr>\n",
       "      <th>4</th>\n",
       "      <td>24993</td>\n",
       "      <td>1999-11-24</td>\n",
       "      <td>19:25:00</td>\n",
       "      <td>24993 1999-11-24 19:25:00</td>\n",
       "      <td>EMENDA  AGLUTINATIVA</td>\n",
       "      <td>PEC</td>\n",
       "      <td>407</td>\n",
       "      <td>1996</td>\n",
       "      <td>NaN</td>\n",
       "      <td>412</td>\n",
       "      <td>RS</td>\n",
       "      <td>Paulo Paim</td>\n",
       "      <td>PT</td>\n",
       "      <td>Sim</td>\n",
       "      <td>GOV.</td>\n",
       "      <td>Sim</td>\n",
       "      <td>1.0</td>\n",
       "    </tr>\n",
       "  </tbody>\n",
       "</table>\n",
       "</div>"
      ],
      "text/plain": [
       "   id_proposicao data_votacao hora_votacao             prop_data_hora  \\\n",
       "0          24993   1999-11-24     19:25:00  24993 1999-11-24 19:25:00   \n",
       "1          24993   1999-11-24     19:25:00  24993 1999-11-24 19:25:00   \n",
       "2          24993   1999-11-24     19:25:00  24993 1999-11-24 19:25:00   \n",
       "3          24993   1999-11-24     19:25:00  24993 1999-11-24 19:25:00   \n",
       "4          24993   1999-11-24     19:25:00  24993 1999-11-24 19:25:00   \n",
       "\n",
       "         objeto_votacao tipo_proposicao_sigla  numero_proposicao  \\\n",
       "0  EMENDA  AGLUTINATIVA                   PEC                407   \n",
       "1  EMENDA  AGLUTINATIVA                   PEC                407   \n",
       "2  EMENDA  AGLUTINATIVA                   PEC                407   \n",
       "3  EMENDA  AGLUTINATIVA                   PEC                407   \n",
       "4  EMENDA  AGLUTINATIVA                   PEC                407   \n",
       "\n",
       "   ano_proposicao resumo_votacao  cod_sessao  uf                  nome  \\\n",
       "0            1996            NaN         412  RS  Mendes Ribeiro Filho   \n",
       "1            1996            NaN         412  RS      Nelson Marchezan   \n",
       "2            1996            NaN         412  RS        Nelson Proença   \n",
       "3            1996            NaN         412  RS       Osvaldo Biolchi   \n",
       "4            1996            NaN         412  RS            Paulo Paim   \n",
       "\n",
       "  sigla_partido             voto sigla_orientaçao_GOV. voto_orientacao_GOV.  \\\n",
       "0    PMDB        Sim                              GOV.                  Sim   \n",
       "1    PSDB        Sim                              GOV.                  Sim   \n",
       "2    PMDB        Sim                              GOV.                  Sim   \n",
       "3    PMDB        Sim                              GOV.                  Sim   \n",
       "4    PT          Sim                              GOV.                  Sim   \n",
       "\n",
       "   check_GOV.  \n",
       "0         1.0  \n",
       "1         1.0  \n",
       "2         1.0  \n",
       "3         1.0  \n",
       "4         1.0  "
      ]
     },
     "execution_count": 297,
     "metadata": {},
     "output_type": "execute_result"
    }
   ],
   "source": [
    "df.to_csv('../db/votacao_proposicoes_votos_orientacao_%s.csv'%(partido), encoding='utf-8', index=False)"
   ]
  },
  {
   "cell_type": "code",
   "execution_count": 298,
   "metadata": {},
   "outputs": [],
   "source": [
    "sigla_orientacao = 'sigla_orientaçao_%s'%(partido)\n",
    "voto_orientacao = 'voto_orientacao_%s'%(partido)\n",
    "check_partido = check_partido\n",
    "cols=[sigla_orientacao,voto_orientacao,check_partido]\n",
    "\n",
    "df_add = df[cols]"
   ]
  },
  {
   "cell_type": "code",
   "execution_count": 299,
   "metadata": {},
   "outputs": [
    {
     "data": {
      "text/html": [
       "<div>\n",
       "<style scoped>\n",
       "    .dataframe tbody tr th:only-of-type {\n",
       "        vertical-align: middle;\n",
       "    }\n",
       "\n",
       "    .dataframe tbody tr th {\n",
       "        vertical-align: top;\n",
       "    }\n",
       "\n",
       "    .dataframe thead th {\n",
       "        text-align: right;\n",
       "    }\n",
       "</style>\n",
       "<table border=\"1\" class=\"dataframe\">\n",
       "  <thead>\n",
       "    <tr style=\"text-align: right;\">\n",
       "      <th></th>\n",
       "      <th>sigla_orientaçao_GOV.</th>\n",
       "      <th>voto_orientacao_GOV.</th>\n",
       "      <th>check_GOV.</th>\n",
       "    </tr>\n",
       "  </thead>\n",
       "  <tbody>\n",
       "    <tr>\n",
       "      <th>0</th>\n",
       "      <td>GOV.</td>\n",
       "      <td>Sim</td>\n",
       "      <td>1.0</td>\n",
       "    </tr>\n",
       "    <tr>\n",
       "      <th>1</th>\n",
       "      <td>GOV.</td>\n",
       "      <td>Sim</td>\n",
       "      <td>1.0</td>\n",
       "    </tr>\n",
       "    <tr>\n",
       "      <th>2</th>\n",
       "      <td>GOV.</td>\n",
       "      <td>Sim</td>\n",
       "      <td>1.0</td>\n",
       "    </tr>\n",
       "    <tr>\n",
       "      <th>3</th>\n",
       "      <td>GOV.</td>\n",
       "      <td>Sim</td>\n",
       "      <td>1.0</td>\n",
       "    </tr>\n",
       "    <tr>\n",
       "      <th>4</th>\n",
       "      <td>GOV.</td>\n",
       "      <td>Sim</td>\n",
       "      <td>1.0</td>\n",
       "    </tr>\n",
       "  </tbody>\n",
       "</table>\n",
       "</div>"
      ],
      "text/plain": [
       "  sigla_orientaçao_GOV. voto_orientacao_GOV.  check_GOV.\n",
       "0                  GOV.                  Sim         1.0\n",
       "1                  GOV.                  Sim         1.0\n",
       "2                  GOV.                  Sim         1.0\n",
       "3                  GOV.                  Sim         1.0\n",
       "4                  GOV.                  Sim         1.0"
      ]
     },
     "execution_count": 299,
     "metadata": {},
     "output_type": "execute_result"
    }
   ],
   "source": [
    "df_add.head()"
   ]
  },
  {
   "cell_type": "code",
   "execution_count": 301,
   "metadata": {},
   "outputs": [],
   "source": [
    "df_save= pd.read_csv('../db/votacao_proposicao_votos_orientacao.csv')"
   ]
  },
  {
   "cell_type": "code",
   "execution_count": 302,
   "metadata": {},
   "outputs": [],
   "source": [
    "df_save = df_save.join(df_add)"
   ]
  },
  {
   "cell_type": "code",
   "execution_count": 303,
   "metadata": {},
   "outputs": [],
   "source": [
    "df_save.to_csv('../db/votacao_proposicao_votos_orientacao.csv', encoding='utf-8', index=False)"
   ]
  },
  {
   "cell_type": "code",
   "execution_count": null,
   "metadata": {},
   "outputs": [],
   "source": []
  },
  {
   "cell_type": "code",
   "execution_count": null,
   "metadata": {},
   "outputs": [],
   "source": []
  },
  {
   "cell_type": "code",
   "execution_count": null,
   "metadata": {},
   "outputs": [],
   "source": []
  },
  {
   "cell_type": "code",
   "execution_count": null,
   "metadata": {},
   "outputs": [],
   "source": []
  }
 ],
 "metadata": {
  "kernelspec": {
   "display_name": "Python 3",
   "language": "python",
   "name": "python3"
  },
  "language_info": {
   "codemirror_mode": {
    "name": "ipython",
    "version": 3
   },
   "file_extension": ".py",
   "mimetype": "text/x-python",
   "name": "python",
   "nbconvert_exporter": "python",
   "pygments_lexer": "ipython3",
   "version": "3.5.6"
  }
 },
 "nbformat": 4,
 "nbformat_minor": 2
}
