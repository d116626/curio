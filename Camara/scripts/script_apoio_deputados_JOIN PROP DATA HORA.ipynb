{
 "cells": [
  {
   "cell_type": "code",
   "execution_count": 1,
   "metadata": {},
   "outputs": [],
   "source": [
    "import pandas as pd\n",
    "import numpy as np\n",
    "import warnings\n",
    "warnings.filterwarnings('ignore')"
   ]
  },
  {
   "cell_type": "code",
   "execution_count": 2,
   "metadata": {},
   "outputs": [],
   "source": [
    "df_o= pd.read_csv('../db/votacao_proposicao_orientacao.csv')\n",
    "df_v= pd.read_csv('../db/votacao_proposicao.csv')"
   ]
  },
  {
   "cell_type": "code",
   "execution_count": 3,
   "metadata": {},
   "outputs": [],
   "source": [
    "df_vp=df_v.copy()\n",
    "# df_vp.head(2)"
   ]
  },
  {
   "cell_type": "code",
   "execution_count": 4,
   "metadata": {},
   "outputs": [],
   "source": [
    "df_op=df_o.copy()\n",
    "# df_op.head(2)"
   ]
  },
  {
   "cell_type": "code",
   "execution_count": 5,
   "metadata": {},
   "outputs": [],
   "source": [
    "df_op_dp = pd.DataFrame()\n",
    "df_vp_dp = pd.DataFrame()\n",
    "\n",
    "df_op_dp['prop'] = df_op['id_proposicao']\n",
    "df_vp_dp['prop'] = df_vp['id_proposicao']\n",
    "\n",
    "df_op_dp['data_hora_o'] = pd.to_datetime(df_op['data_votacao'] + ' ' + df_op['hora_votacao'])\n",
    "df_vp_dp['data_hora_v'] = pd.to_datetime(df_vp['data_votacao'] + ' ' + df_vp['hora_votacao'])\n",
    "\n",
    "\n",
    "# df_op_dp.head()"
   ]
  },
  {
   "cell_type": "code",
   "execution_count": 6,
   "metadata": {},
   "outputs": [],
   "source": [
    "# df_op['prop_data_hora_o'] = df_op['id_proposicao'] + df_op['space'] +df_op['data_hora_o']\n",
    "# df_vp['prop_data_hora_v'] = df_vp['id_proposicao'] + df_vp['space'] +df_vp['data_hora_v']\n",
    "# df_op['prop'] = df_op['prop'].astype(str)\n",
    "# df_op['data_hora_o'] = df_op['data_hora_o'].astype(str)\n",
    "# df_op['prop_data_hora_o'] = df[['prop','data_hora_o']].apply(' '.join, axis=1)\n",
    "\n",
    "df_op['prop_data_hora_o'] = df_op_dp.apply(lambda x: ' '.join(x.astype(str)), axis=1)\n",
    "df_vp['prop_data_hora_o'] = df_vp_dp.apply(lambda x: ' '.join(x.astype(str)), axis=1)"
   ]
  },
  {
   "cell_type": "code",
   "execution_count": 7,
   "metadata": {},
   "outputs": [
    {
     "data": {
      "text/html": [
       "<div>\n",
       "<style scoped>\n",
       "    .dataframe tbody tr th:only-of-type {\n",
       "        vertical-align: middle;\n",
       "    }\n",
       "\n",
       "    .dataframe tbody tr th {\n",
       "        vertical-align: top;\n",
       "    }\n",
       "\n",
       "    .dataframe thead th {\n",
       "        text-align: right;\n",
       "    }\n",
       "</style>\n",
       "<table border=\"1\" class=\"dataframe\">\n",
       "  <thead>\n",
       "    <tr style=\"text-align: right;\">\n",
       "      <th></th>\n",
       "      <th>id_proposicao</th>\n",
       "      <th>tipo_proposicao_sigla</th>\n",
       "      <th>numero_proposicao</th>\n",
       "      <th>ano_proposicao</th>\n",
       "      <th>resumo_votacao</th>\n",
       "      <th>data_votacao</th>\n",
       "      <th>hora_votacao</th>\n",
       "      <th>objeto_votacao</th>\n",
       "      <th>cod_sessao</th>\n",
       "      <th>nome</th>\n",
       "      <th>ide_cadastro</th>\n",
       "      <th>sigla_partido</th>\n",
       "      <th>uf</th>\n",
       "      <th>voto</th>\n",
       "      <th>data_captura</th>\n",
       "      <th>url_captura</th>\n",
       "      <th>prop_data_hora_o</th>\n",
       "    </tr>\n",
       "  </thead>\n",
       "  <tbody>\n",
       "    <tr>\n",
       "      <th>0</th>\n",
       "      <td>24993</td>\n",
       "      <td>PEC</td>\n",
       "      <td>407</td>\n",
       "      <td>1996</td>\n",
       "      <td>NaN</td>\n",
       "      <td>1999-11-24</td>\n",
       "      <td>19:25:00</td>\n",
       "      <td>EMENDA  AGLUTINATIVA</td>\n",
       "      <td>412</td>\n",
       "      <td>Mendes Ribeiro Filho</td>\n",
       "      <td>NaN</td>\n",
       "      <td>PMDB</td>\n",
       "      <td>RS</td>\n",
       "      <td>Sim</td>\n",
       "      <td>2018-11-12 20:43:22</td>\n",
       "      <td>http://www.camara.leg.br/SitCamaraWS/Proposico...</td>\n",
       "      <td>24993 1999-11-24 19:25:00</td>\n",
       "    </tr>\n",
       "    <tr>\n",
       "      <th>1</th>\n",
       "      <td>24993</td>\n",
       "      <td>PEC</td>\n",
       "      <td>407</td>\n",
       "      <td>1996</td>\n",
       "      <td>NaN</td>\n",
       "      <td>1999-11-24</td>\n",
       "      <td>19:25:00</td>\n",
       "      <td>EMENDA  AGLUTINATIVA</td>\n",
       "      <td>412</td>\n",
       "      <td>Nelson Marchezan</td>\n",
       "      <td>NaN</td>\n",
       "      <td>PSDB</td>\n",
       "      <td>RS</td>\n",
       "      <td>Sim</td>\n",
       "      <td>2018-11-12 20:43:22</td>\n",
       "      <td>http://www.camara.leg.br/SitCamaraWS/Proposico...</td>\n",
       "      <td>24993 1999-11-24 19:25:00</td>\n",
       "    </tr>\n",
       "  </tbody>\n",
       "</table>\n",
       "</div>"
      ],
      "text/plain": [
       "   id_proposicao tipo_proposicao_sigla  numero_proposicao  ano_proposicao  \\\n",
       "0          24993                   PEC                407            1996   \n",
       "1          24993                   PEC                407            1996   \n",
       "\n",
       "  resumo_votacao data_votacao hora_votacao        objeto_votacao  cod_sessao  \\\n",
       "0            NaN   1999-11-24     19:25:00  EMENDA  AGLUTINATIVA         412   \n",
       "1            NaN   1999-11-24     19:25:00  EMENDA  AGLUTINATIVA         412   \n",
       "\n",
       "                   nome  ide_cadastro sigla_partido  uf             voto  \\\n",
       "0  Mendes Ribeiro Filho           NaN    PMDB        RS  Sim               \n",
       "1      Nelson Marchezan           NaN    PSDB        RS  Sim               \n",
       "\n",
       "          data_captura                                        url_captura  \\\n",
       "0  2018-11-12 20:43:22  http://www.camara.leg.br/SitCamaraWS/Proposico...   \n",
       "1  2018-11-12 20:43:22  http://www.camara.leg.br/SitCamaraWS/Proposico...   \n",
       "\n",
       "            prop_data_hora_o  \n",
       "0  24993 1999-11-24 19:25:00  \n",
       "1  24993 1999-11-24 19:25:00  "
      ]
     },
     "execution_count": 7,
     "metadata": {},
     "output_type": "execute_result"
    }
   ],
   "source": [
    "df_vp.head(2)"
   ]
  },
  {
   "cell_type": "code",
   "execution_count": 8,
   "metadata": {},
   "outputs": [],
   "source": [
    "df_op.to_csv('../db/votacao_proposicao_orientacao_prop_data_hora.csv', encoding='utf-8', index=False)\n",
    "df_vp.to_csv('../db/votacao_proposicao_prop_data_hora.csv', encoding='utf-8', index=False)"
   ]
  },
  {
   "cell_type": "code",
   "execution_count": null,
   "metadata": {},
   "outputs": [],
   "source": []
  }
 ],
 "metadata": {
  "kernelspec": {
   "display_name": "Python 3",
   "language": "python",
   "name": "python3"
  },
  "language_info": {
   "codemirror_mode": {
    "name": "ipython",
    "version": 3
   },
   "file_extension": ".py",
   "mimetype": "text/x-python",
   "name": "python",
   "nbconvert_exporter": "python",
   "pygments_lexer": "ipython3",
   "version": "3.5.6"
  }
 },
 "nbformat": 4,
 "nbformat_minor": 2
}
